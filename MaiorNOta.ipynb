{
  "nbformat": 4,
  "nbformat_minor": 0,
  "metadata": {
    "colab": {
      "provenance": [],
      "authorship_tag": "ABX9TyN9nxYjxf+xJ3ISWCiO0KT0",
      "include_colab_link": true
    },
    "kernelspec": {
      "name": "python3",
      "display_name": "Python 3"
    },
    "language_info": {
      "name": "python"
    }
  },
  "cells": [
    {
      "cell_type": "markdown",
      "metadata": {
        "id": "view-in-github",
        "colab_type": "text"
      },
      "source": [
        "<a href=\"https://colab.research.google.com/github/X3DTHING/maiornota/blob/main/MaiorNOta.ipynb\" target=\"_parent\"><img src=\"https://colab.research.google.com/assets/colab-badge.svg\" alt=\"Open In Colab\"/></a>"
      ]
    },
    {
      "cell_type": "code",
      "execution_count": 1,
      "metadata": {
        "colab": {
          "base_uri": "https://localhost:8080/"
        },
        "id": "zxru_6rLS4FD",
        "outputId": "8d2f4c4b-0ad9-44af-9f79-746904efc413"
      },
      "outputs": [
        {
          "output_type": "stream",
          "name": "stdout",
          "text": [
            "Insira a primeira nota: 80\n",
            "Insira a segunda nota: 69\n",
            "Insira a terceira nota: 40\n",
            "A maior nota é: 80.0\n"
          ]
        }
      ],
      "source": [
        "# prompt: crie um programa que receba 3 notas. de 0 a 10\n",
        "# em seguida, exiba qual das 3 notas foi a maior...\n",
        "\n",
        "nota1 = float(input('Insira a primeira nota: '))\n",
        "nota2 = float(input('Insira a segunda nota: '))\n",
        "nota3 = float(input('Insira a terceira nota: '))\n",
        "\n",
        "maior_nota = max(nota1, nota2, nota3)\n",
        "\n",
        "print(f'A maior nota é: {maior_nota}')\n"
      ]
    }
  ]
}